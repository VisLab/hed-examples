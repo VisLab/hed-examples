{
 "cells": [
  {
   "cell_type": "markdown",
   "metadata": {
    "collapsed": true,
    "pycharm": {
     "name": "#%% md\n"
    }
   },
   "source": [
    "# Remodel an events file\n",
    "\n",
    "This notebook uses the `run_remodel.main(arglist)` to remodel an events file.\n",
    "The `arglist` is a list of parameters taking from the following table:\n",
    "\n",
    "| parameter | default | dest | other | meaning |\n",
    "| --------- | ------- | ---- | ----- | ------- |\n",
    "| data_dir  |         | data_dir |   | Full path of dataset root directory. |\n",
    "| model-path |    | model_path |   | Full path of the file with remodeling instructions. |\n",
    "| -n, --backup_name | default_back | backup_name |   | Name of the default backup for remodeling. |\n",
    "| -t, --task-names | []   |task_names | nargs=* |The name of the task. |\n",
    "| -x, --exclude-dirs | [] |exclude_dirs | nargs=* | Directories names to exclude from search for files.<br/>If omitted, no directories except the backup directory will be excluded.<br/>Note data_dir/remodel/backup will always be excluded. |\n",
    "| -f, --file-suffix | ['events']  | file_suffix | nargs=* | Filename suffix of files to be backed up.<br/>A * indicates all files allowed. |\n",
    "| -e, --extensions | ['.tsv'] | extensions | nargs=* | File extensions to allow in locating files.<br/>A * indicates all files allowed. |\n",
    "| -s, --save-formats | ['.json', '.txt'] | save_formats | nargs=* | Format for saving any summaries, if any.<br/>If empty, then no summaries are saved. |\n",
    "| -b, --bids-format |   | use_bids | action=store_true | If present, the dataset is in BIDS format with sidecars.<br/>HED analysis is available. |\n",
    "| -v, --verbose |   |  verbose | action=store_true | If present, output informative messages as computation progresses. |"
   ]
  },
  {
   "cell_type": "code",
   "source": [
    "import os\n",
    "import hed.tools.remodeling.cli.run_remodel as cli_remodel\n",
    "\n",
    "data_root = '../../../datasets/eeg_ds003645s_hed_remodel'\n",
    "model_relative = 'derivatives/remodel/remodeling_files/summarize_columns_rmdl.json'\n",
    "model_path = os.path.realpath(os.path.join(data_root, model_relative))\n",
    "arg_list = [data_root, model_path, '-b', '-nb', '-x', 'derivatives', 'stimuli', 'sourcedata', 'code',\n",
    "            '-f', 'events', '-e', '.tsv', '-i', 'consolidated']\n",
    "cli_remodel.main(arg_list)\n",
    "print(\"Results will be found in derivatives/remodel/summaries relative to data_root\")"
   ],
   "metadata": {
    "collapsed": false,
    "pycharm": {
     "name": "#%%  This removes all summaries from eeg_ds003645s_hed_remodel and then reruns.\n"
    },
    "ExecuteTime": {
     "end_time": "2024-09-26T11:20:51.226004Z",
     "start_time": "2024-09-26T11:20:49.689854Z"
    }
   },
   "outputs": [
    {
     "name": "stdout",
     "output_type": "stream",
     "text": [
      "Results will be found in derivatives/remodel/summaries relative to data_root\n"
     ]
    }
   ],
   "execution_count": 1
  },
  {
   "cell_type": "code",
   "source": [],
   "metadata": {
    "collapsed": false,
    "ExecuteTime": {
     "end_time": "2024-09-26T11:20:51.241800Z",
     "start_time": "2024-09-26T11:20:51.229904Z"
    }
   },
   "outputs": [],
   "execution_count": 1
  }
 ],
 "metadata": {
  "kernelspec": {
   "display_name": "Python 3",
   "language": "python",
   "name": "python3"
  },
  "language_info": {
   "codemirror_mode": {
    "name": "ipython",
    "version": 2
   },
   "file_extension": ".py",
   "mimetype": "text/x-python",
   "name": "python",
   "nbconvert_exporter": "python",
   "pygments_lexer": "ipython2",
   "version": "2.7.6"
  }
 },
 "nbformat": 4,
 "nbformat_minor": 0
}
