{
 "cells": [
  {
   "metadata": {},
   "cell_type": "markdown",
   "source": [
    "# Backup the event files in a dataset\n",
    "\n",
    "This notebook calls `run_remodel_backup(arglist)` with a list of parameters from the following table\n",
    "to back up the events in a dataset.\n",
    "\n",
    "| parameter          | default                                  | dest        | other | meaning |\n",
    "|--------------------|------------------------------------------|-------------| ----- | ------- |\n",
    "| data_dir           |                                          | data_dir    |   |  Full path of dataset root directory. |\n",
    "| -bd, --backup_dir  | `[data_root]/derivatives/remodel/backups` | backup_dir  |  | Name of the default backup for remodeling. |\n",
    "| -bn, --backup_name | `default_back`                             | backup_name |  | Name of the default backup for remodeling. |\n",
    "| -fs, --file-suffix  | ['events']                               | file_suffix |  nargs=* | Filename suffix of files to be backed up. <br/>A * indicates all files allowed. |\n",
    "| -t, --task-names | []   |task_names | nargs=* | The name of the task. |\n",
    "| -v, --verbose |   | verbose |action=store_true | If present, output informative messages as computation progresses. |  \n",
    "| -x, --exclude-dirs | [] | exclude_dirs | nargs=* | Directories names to exclude from search for files. <br/>If omitted, no directories except the backup directory will be excluded. <br/>Note data_dir/remodel/backup will always be excluded. |"
   ]
  },
  {
   "metadata": {
    "ExecuteTime": {
     "end_time": "2025-03-13T21:31:47.766174Z",
     "start_time": "2025-03-13T21:31:47.674145Z"
    }
   },
   "cell_type": "code",
   "source": [
    "import os\n",
    "import hed.tools.remodeling.cli.run_remodel_backup as cli_backup\n",
    "\n",
    "data_root = os.path.realpath('../../../datasets/eeg_ds003645s_hed_remodel')\n",
    "backup_name = 'test_backup2'\n",
    "arg_list = [data_root, '-bn', backup_name, '-x', 'derivatives', 'stimuli', 'code', 'sourcedata', '-fs', 'events']\n",
    "cli_backup.main(arg_list)\n",
    "print(\"Results will be found in derivatives/remodel/backups/test_backup relative to data_root\")"
   ],
   "outputs": [
    {
     "name": "stdout",
     "output_type": "stream",
     "text": [
      "Results will be found in derivatives/remodel/backups/test_backup relative to data_root\n"
     ]
    }
   ],
   "execution_count": 4
  }
 ],
 "metadata": {
  "kernelspec": {
   "display_name": "Python 3",
   "language": "python",
   "name": "python3"
  },
  "language_info": {
   "codemirror_mode": {
    "name": "ipython",
    "version": 2
   },
   "file_extension": ".py",
   "mimetype": "text/x-python",
   "name": "python",
   "nbconvert_exporter": "python",
   "pygments_lexer": "ipython2",
   "version": "2.7.6"
  }
 },
 "nbformat": 4,
 "nbformat_minor": 0
}
