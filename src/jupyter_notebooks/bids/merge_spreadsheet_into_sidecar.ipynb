{
 "cells": [
  {
   "cell_type": "markdown",
   "source": [
    "## Merge a HED tag spreadsheet with an existing JSON sidecar.\n",
    "\n",
    "This notebook merges a 4-column spreadsheet into an existing BIDS JSON sidecar. \n",
    "This operation is used when the HED annotations are in a spreadsheet and the user wishes \n",
    "to incorporate the information into a BIDS JSON sidecar.\n",
    "\n",
    "The spreadsheet must have the following 4 columns: `column_name`, `column_value`, `description`, and `HED`.\n",
    "\n",
    "Although the merge operation itself does not require any information except the spreadsheet and the sidecar,\n",
    "this notebook constructs a test by first converting the spreadsheet to a dictionary and then merging into\n",
    "an existing dict. \n",
    "\n",
    "To use this notebook, provide a spreadsheet path and a worksheet name if applicable.\n",
    "You can use either a `.tsv` or an `.xlsx` file:\n",
    "\n",
    "| Variable         | Purpose                 |\n",
    "|------------------|-------------------------|\n",
    "| `spreadsheet_path` | Spreadsheet file path.  |\n",
    "| `worksheet_name`   | Worksheet name or None. |\n",
    "\n"
   ],
   "metadata": {
    "collapsed": false
   }
  },
  {
   "cell_type": "code",
   "source": [
    "import os\n",
    "import json\n",
    "from hed.models import SpreadsheetInput\n",
    "from hed.tools import df_to_hed, merge_hed_dict\n",
    "\n",
    "# Spreadsheet input\n",
    "spreadsheet_path = os.path.realpath('../../../docs/source/_static/data/task-WorkingMemory_example_spreadsheet.tsv')\n",
    "filename = os.path.basename(spreadsheet_path)\n",
    "worksheet_name = None\n",
    "spreadsheet = SpreadsheetInput(file=spreadsheet_path, worksheet_name=worksheet_name,\n",
    "                               tag_columns=['HED'], has_column_names=True, name=filename)\n",
    "\n",
    "# Must convert the spreadsheet to a sidecar before merging\n",
    "spreadsheet_sidecar = df_to_hed(spreadsheet.dataframe, description_tag=False)\n",
    "\n",
    "# Use an empty dict to merge into, but any valid dict read from JSON will work\n",
    "target_sidecar_dict = {}\n",
    "\n",
    "# Do the merge\n",
    "merge_hed_dict(target_sidecar_dict, spreadsheet_sidecar)\n",
    "merged_json = json.dumps(target_sidecar_dict, indent=4)\n",
    "print(merged_json)"
   ],
   "metadata": {
    "collapsed": false,
    "ExecuteTime": {
     "end_time": "2025-03-13T21:41:31.173540Z",
     "start_time": "2025-03-13T21:41:29.325519Z"
    }
   },
   "outputs": [
    {
     "name": "stdout",
     "output_type": "stream",
     "text": [
      "{\n",
      "    \"event_type\": {\n",
      "        \"Levels\": {\n",
      "            \"left_click\": \"Participant pushes the left button.\",\n",
      "            \"right_click\": \"Participant pushes the right button\",\n",
      "            \"show_cross\": \"Display an image of a cross character on the screen.\",\n",
      "            \"show_dash\": \"Display an image of a dash character on the screen.\",\n",
      "            \"show_letter\": \"Display a letter on the screen.\",\n",
      "            \"sound_beep\": \"Play a beep sound.\",\n",
      "            \"sound_buzz\": \"Play a buzz sound\"\n",
      "        },\n",
      "        \"HED\": {\n",
      "            \"left_click\": \"Agent-action, Participant-response, (Press, (Push-button, (Left-side-of)))\",\n",
      "            \"right_click\": \"Agent-action, Participant-response, (Press, (Push-button, (Right-side-of)))\",\n",
      "            \"show_cross\": \"Sensory-event, Visual-presentation, (Cross, (Center-of, Computer-screen))\",\n",
      "            \"show_dash\": \"Sensory-event, Visual-presentation, (Dash, (Center-of, Computer-screen))\",\n",
      "            \"show_letter\": \"Sensory-event, Visual-presentation, (Character, (Center-of, Computer-screen))\",\n",
      "            \"sound_beep\": \"Sensory-event, Auditory-presentation, Beep\",\n",
      "            \"sound_buzz\": \"Sensory-event, Auditory-presentation, Buzz\"\n",
      "        }\n",
      "    },\n",
      "    \"task_role\": {\n",
      "        \"Levels\": {\n",
      "            \"bad_trial\": \"This event is part of a bad or incomplete trial. Some of the expected trial events are missing.\",\n",
      "            \"feedback_correct\": \"Feedback that the last participant response was correct.\",\n",
      "            \"feedback_incorrect\": \"Feedback that the last participant response was incorrect.\",\n",
      "            \"fixate\": \"Indicates participant should fixate.\",\n",
      "            \"ignored_correct\": \"The participant correctly indicated that the probe was not a target.\",\n",
      "            \"ignored_incorrect\": \"The participant indicated that the probe was not a target but the probe was a target.\",\n",
      "            \"indicate_ready\": \"The participant presses a button to indicate ready.\",\n",
      "            \"probe_not_shown\": \"The probe letter was not shown in the trial.\",\n",
      "            \"probe_target\": \"The probe letter was a target to be remembered.\",\n",
      "            \"remembered_correct\": \"Participant correctly indicated that the probe was a target.\",\n",
      "            \"remembered_incorrect\": \"Participant indicated that the probe was a target but the probe was not a target.\",\n",
      "            \"to_ignore\": \"This probe letter is not a target.\",\n",
      "            \"to_remember\": \"This probe letter is a target.\",\n",
      "            \"work_memory\": \"Cue to indicate that a probe letter is coming.\"\n",
      "        },\n",
      "        \"HED\": {\n",
      "            \"bad_trial\": \"(Invalid, Experimental-trial)\",\n",
      "            \"feedback_correct\": \"(Feedback, Correct-action)\",\n",
      "            \"feedback_incorrect\": \"(Feedback, Incorrect-action)\",\n",
      "            \"fixate\": \"(Task, Fixate)\",\n",
      "            \"ignored_correct\": \"((Recall, Non-target), Correct-action)\",\n",
      "            \"ignored_incorrect\": \"((Recall, Non-target), Incorrect-action)\",\n",
      "            \"indicate_ready\": \"(Appropriate-action, Label/Indicate-ready)\",\n",
      "            \"probe_not_shown\": \"(Cue, Non-target)\",\n",
      "            \"probe_target\": \"(Cue, Target)\",\n",
      "            \"remembered_correct\": \"((Recall, Target), Correct-action)\",\n",
      "            \"remembered_incorrect\": \"((Recall, Target), Incorrect-action)\",\n",
      "            \"to_ignore\": \"Non-target\",\n",
      "            \"to_remember\": \"Target\",\n",
      "            \"work_memory\": \"(Cue, Recall)\"\n",
      "        }\n",
      "    },\n",
      "    \"trial\": {\n",
      "        \"Description\": \"Number of the trial in the experiment\",\n",
      "        \"HED\": \"Experimental-trial/#\"\n",
      "    },\n",
      "    \"letter\": {\n",
      "        \"Description\": \"The character appearing on the screen\",\n",
      "        \"HED\": \"(Character, Label/#)\"\n",
      "    },\n",
      "    \"memory_cond\": {\n",
      "        \"Description\": \"Number of letters that must be paid attention to or remembered.\",\n",
      "        \"HED\": \"(Condition-variable/Items-to-memorize, Item-count, Target, Label/#)\"\n",
      "    }\n",
      "}\n"
     ]
    }
   ],
   "execution_count": 1
  }
 ],
 "metadata": {
  "kernelspec": {
   "display_name": "Python 3",
   "language": "python",
   "name": "python3"
  },
  "language_info": {
   "codemirror_mode": {
    "name": "ipython",
    "version": 2
   },
   "file_extension": ".py",
   "mimetype": "text/x-python",
   "name": "python",
   "nbconvert_exporter": "python",
   "pygments_lexer": "ipython2",
   "version": "2.7.6"
  }
 },
 "nbformat": 4,
 "nbformat_minor": 0
}
