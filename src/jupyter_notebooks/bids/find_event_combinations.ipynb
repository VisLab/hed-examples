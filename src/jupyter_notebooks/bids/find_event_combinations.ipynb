{
 "cells": [
  {
   "cell_type": "markdown",
   "source": [
    "## Find event combinations\n",
    "\n",
    "This notebook traverses through a data set and gathers the unique combinations of values in the specified columns of the event files.\n",
    "\n",
    "The setup requires the following variables for your dataset:\n",
    "\n",
    "| Variable            | Purpose                                                        |\n",
    "|---------------------|----------------------------------------------------------------|\n",
    "| `dataset_root_path` | Full path to root directory of dataset.                        |\n",
    "| `output_path`       | Output path for the spreadsheet template. If None, then print. |\n",
    "| `exclude_dirs`      | List of directories to exclude when constructing file lists.   |\n",
    "| `key_columns`       | List of column names in the events.tsv files to combine.       |\n",
    "\n",
    "The result will be a tabular file (tab-separated file) whose columns are the `key_columns` in the order given. The values will be all unique combinations of the `key_columns`, sorted by columns left to right.\n",
    "\n",
    "This can be used to remap the columns in event files to use a new recoding. The resulting spreadsheet is also useful for deciding whether two columns contain redundant information."
   ],
   "metadata": {
    "collapsed": false
   }
  },
  {
   "cell_type": "code",
   "source": [
    "import os\n",
    "from hed.tools.analysis.key_map import KeyMap\n",
    "from hed.tools.util.data_util import get_new_dataframe\n",
    "from hed.tools.util.io_util import get_file_list\n",
    "\n",
    "# Variables to set for the specific dataset\n",
    "dataset_root = '../../../datasets/eeg_ds002893s_hed_attention_shift'\n",
    "exclude_dirs = ['stimuli', 'code', 'derivatives', 'sourcedata', 'phenotype']\n",
    "output_path = ''\n",
    "exclude_dirs = ['trial', 'derivatives', 'code', 'sourcedata']\n",
    "\n",
    "# Construct the key map\n",
    "key_columns = [\"focus_modality\", \"event_type\", \"attention_status\"]\n",
    "key_map = KeyMap(key_columns)\n",
    "\n",
    "# Construct the unique combinations\n",
    "event_files = get_file_list(dataset_root, extensions=[\".tsv\"], name_suffix=\"events\", exclude_dirs=exclude_dirs)\n",
    "for event_file in event_files:\n",
    "    print(f\"{os.path.basename(event_file)}\")\n",
    "    df = get_new_dataframe(event_file)\n",
    "    key_map.update(df)\n",
    "\n",
    "key_map.resort()\n",
    "template = key_map.make_template()\n",
    "key_counts_sum = template['key_counts'].sum()\n",
    "print(f\"The total count of the keys is:{key_counts_sum}\")\n",
    "if output_path:\n",
    "    template.to_csv(output_path, sep='\\t', index=False, header=True)\n",
    "else:\n",
    "    print(template)  \n"
   ],
   "metadata": {
    "collapsed": false,
    "ExecuteTime": {
     "end_time": "2025-03-13T21:39:07.313088Z",
     "start_time": "2025-03-13T21:39:02.489259Z"
    }
   },
   "outputs": [
    {
     "name": "stdout",
     "output_type": "stream",
     "text": [
      "sub-001_task-AuditoryVisualShift_run-01_events.tsv\n",
      "sub-002_task-AuditoryVisualShift_run-01_events.tsv\n",
      "The total count of the keys is:11730\n",
      "    key_counts focus_modality       event_type attention_status\n",
      "0         2298       auditory         low_tone         attended\n",
      "1         2292         visual         dark_bar         attended\n",
      "2         1540       auditory         dark_bar       unattended\n",
      "3         1538         visual         low_tone       unattended\n",
      "4          585       auditory     button_press              nan\n",
      "5          577       auditory        high_tone         attended\n",
      "6          576         visual        light_bar         attended\n",
      "7          572         visual     button_press              nan\n",
      "8          384       auditory        light_bar       unattended\n",
      "9          383         visual        high_tone       unattended\n",
      "10         288       auditory        hear_word         attended\n",
      "11         287         visual        look_word         attended\n",
      "12          96         visual        look_word       unattended\n",
      "13          96       auditory        hear_word       unattended\n",
      "14          96       auditory        look_word       unattended\n",
      "15          96         visual        hear_word       unattended\n",
      "16          14         visual  pause_recording              nan\n",
      "17          11       auditory  pause_recording              nan\n",
      "18           1            nan  pause_recording              nan\n"
     ]
    }
   ],
   "execution_count": 1
  }
 ],
 "metadata": {
  "kernelspec": {
   "display_name": "Python 3",
   "language": "python",
   "name": "python3"
  },
  "language_info": {
   "codemirror_mode": {
    "name": "ipython",
    "version": 2
   },
   "file_extension": ".py",
   "mimetype": "text/x-python",
   "name": "python",
   "nbconvert_exporter": "python",
   "pygments_lexer": "ipython2",
   "version": "2.7.6"
  }
 },
 "nbformat": 4,
 "nbformat_minor": 0
}
