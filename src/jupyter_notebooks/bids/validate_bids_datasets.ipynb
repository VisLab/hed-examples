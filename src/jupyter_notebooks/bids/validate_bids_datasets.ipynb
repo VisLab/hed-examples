{
 "cells": [
  {
   "cell_type": "markdown",
   "source": [
    "## Validate HED in a list of BIDS datasets\n",
    "\n",
    "Validating HED annotations as you develop them makes the annotation process much easier and faster to debug. This notebook validates HED in the BIDS datasets listed in the hed-examples repository.\n",
    "\n",
    "The tool creates a `BidsDataset` object, which represents the information from a BIDS dataset that is relevant to HED, including the `dataset_description.json`, all `events.tsv` files, and all `events.json` sidecar files.\n",
    "\n",
    "The `validate` method of `BidsDataset` first validates all of the `events.json` sidecars and then assembles the relevant sidecars for each `events.tsv` file and validates it. The validation uses the HED schemas specified in the `HEDVersion` field of the dataset's `dataset_description.json` file.\n",
    "\n",
    "The script does the following steps for each dataset in the list.\n",
    "\n",
    "1. Set the dataset location (`dataset_path`) to the absolute path of the root of your BIDS dataset.\n",
    "2. Indicates whether to check for warnings during validation (`check_for_warnings`).\n",
    "3. Create a `BidsDataset` for the dataset.\n",
    "4. Validate the dataset and output the issues.\n",
    "\n",
    "**Note:** This validation pertains to event files and HED annotation only. It does not do a full BIDS validation.\n",
    "\n",
    "The example below validates a list of datasets in [datasets](https://github.com/hed-standard/hed-examples/tree/main/datasets) directory of the HED example repository on GitHub.\n",
    "\n",
    "These datasets have no validation errors."
   ],
   "metadata": {
    "collapsed": false
   }
  },
  {
   "cell_type": "code",
   "source": [
    "import os\n",
    "from hed.errors import get_printable_issue_string\n",
    "from hed.tools import BidsDataset\n",
    "from hed import _version as vr\n",
    "\n",
    "print(f\"Using HEDTOOLS version: {str(vr.get_versions())}\")\n",
    "datasets_dir = '../../../datasets'\n",
    "\n",
    "## Set the dataset locations and the check_for_warnings flag\n",
    "check_for_warnings = False\n",
    "bids_datasets = ['eeg_ds002893s_hed_attention_shift',\n",
    "                 'eeg_ds003645s_hed', \n",
    "                 'eeg_ds003645s_hed_demo',\n",
    "                 'eeg_ds003645s_hed_library', \n",
    "                 'eeg_ds003645s_hed_partnered',\n",
    "                 'eeg_ds003645s_hed_remodel',\n",
    "                 'eeg_ds004105s_hed',\n",
    "                 'eeg_ds004106s_hed',\n",
    "                 'eeg_ds004117s_hed_sternberg',\n",
    "                 'fmri_ds002790s_hed_aomic',\n",
    "                 'fmri_soccer21s_hed'\n",
    "              ]\n",
    "\n",
    "for bids_dataset in bids_datasets:\n",
    "    dataset_path = os.path.realpath(os.path.join(datasets_dir, bids_dataset))\n",
    "    print(f\"\\nValidating {bids_dataset}\")\n",
    "\n",
    "    ## Validate the dataset\n",
    "    bids = BidsDataset(dataset_path)\n",
    "    issue_list = bids.validate(check_for_warnings=check_for_warnings)\n",
    "    if issue_list:\n",
    "        issue_str = get_printable_issue_string(issue_list, \"HED validation errors: \", skip_filename=False)\n",
    "    else:\n",
    "        issue_str = \"No HED validation errors\"\n",
    "    print(issue_str)"
   ],
   "metadata": {
    "collapsed": false,
    "ExecuteTime": {
     "end_time": "2024-09-26T11:00:33.328081Z",
     "start_time": "2024-09-26T11:00:06.227910Z"
    }
   },
   "outputs": [
    {
     "name": "stdout",
     "output_type": "stream",
     "text": [
      "Using HEDTOOLS version: {'date': '2024-09-22T07:25:45-0500', 'dirty': False, 'error': None, 'full-revisionid': '5b99266536c785274c5d0d263914fe01160717ae', 'version': '0.5.0+109.g5b992665'}\n",
      "\n",
      "Validating eeg_ds002893s_hed_attention_shift\n",
      "No HED validation errors\n",
      "\n",
      "Validating eeg_ds003645s_hed\n",
      "No HED validation errors\n",
      "\n",
      "Validating eeg_ds003645s_hed_demo\n",
      "No HED validation errors\n",
      "\n",
      "Validating eeg_ds003645s_hed_library\n",
      "No HED validation errors\n",
      "\n",
      "Validating eeg_ds003645s_hed_partnered\n",
      "No HED validation errors\n",
      "\n",
      "Validating eeg_ds003645s_hed_remodel\n",
      "No HED validation errors\n",
      "\n",
      "Validating eeg_ds004105s_hed\n",
      "No HED validation errors\n",
      "\n",
      "Validating eeg_ds004106s_hed\n",
      "No HED validation errors\n",
      "\n",
      "Validating eeg_ds004117s_hed_sternberg\n",
      "No HED validation errors\n",
      "\n",
      "Validating fmri_ds002790s_hed_aomic\n",
      "No HED validation errors\n",
      "\n",
      "Validating fmri_soccer21s_hed\n",
      "No HED validation errors\n"
     ]
    }
   ],
   "execution_count": 2
  }
 ],
 "metadata": {
  "kernelspec": {
   "display_name": "Python 3",
   "language": "python",
   "name": "python3"
  },
  "language_info": {
   "codemirror_mode": {
    "name": "ipython",
    "version": 2
   },
   "file_extension": ".py",
   "mimetype": "text/x-python",
   "name": "python",
   "nbconvert_exporter": "python",
   "pygments_lexer": "ipython2",
   "version": "2.7.6"
  }
 },
 "nbformat": 4,
 "nbformat_minor": 0
}
