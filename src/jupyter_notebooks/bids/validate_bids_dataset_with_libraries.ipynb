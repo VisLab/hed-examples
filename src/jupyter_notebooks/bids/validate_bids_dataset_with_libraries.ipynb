{
 "cells": [
  {
   "cell_type": "code",
   "source": [
    "from hed.errors import get_printable_issue_string\n",
    "from hed.schema import HedSchemaGroup, load_schema, load_schema_version\n",
    "from hed.tools import BidsDataset\n",
    "\n",
    "## Set the dataset location and the check_for_warnings flag\n",
    "check_for_warnings = False\n",
    "dataset_path = '../../../datasets/eeg_ds003645s_hed_library'\n",
    "bids = BidsDataset(dataset_path)\n",
    "\n",
    "## Validate the dataset using the information from the dataset_description\n",
    "print(f\"Handling a BIDS data set that uses dataset_description\")\n",
    "issue_list1 = bids.validate(check_for_warnings=check_for_warnings)\n",
    "if issue_list1:\n",
    "    issue_str1 = get_printable_issue_string(issue_list1, \"HED validation errors: \", skip_filename=False)\n",
    "else:\n",
    "    issue_str1 = \"No HED validation errors when dataset_description is used\"\n",
    "print(issue_str1)\n",
    "\n",
    "## Now validate URLs\n",
    "print(\"\\nNow validating with schema URLs.\")\n",
    "base_version = '8.3.0'\n",
    "library1_url = \"https://raw.githubusercontent.com/hed-standard/hed-schemas/main/\" + \\\n",
    "               \"library_schemas/score/hedxml/HED_score_2.0.0.xml\"\n",
    "library2_url = \"https://raw.githubusercontent.com/hed-standard/hed-schemas/main/\" + \\\n",
    "               \"library_schemas/testlib/hedxml/HED_testlib_1.0.2.xml\"\n",
    "schema_list = [load_schema(library1_url, schema_namespace=\"\"),\n",
    "               load_schema(library2_url, schema_namespace=\"test\")]\n",
    "bids.schema = HedSchemaGroup(schema_list)\n",
    "\n",
    "\n",
    "issue_list2 = bids.validate(check_for_warnings=check_for_warnings)\n",
    "if issue_list2:\n",
    "    issue_str2 = get_printable_issue_string(issue_list2, \"HED validation errors: \", skip_filename=False)\n",
    "else:\n",
    "    issue_str2 = \"No HED validation errors when schemas are passed\"\n",
    "print(issue_str2)"
   ],
   "metadata": {
    "collapsed": false,
    "ExecuteTime": {
     "end_time": "2024-09-26T10:59:47.781758Z",
     "start_time": "2024-09-26T10:59:43.417427Z"
    }
   },
   "outputs": [
    {
     "name": "stdout",
     "output_type": "stream",
     "text": [
      "Handling a BIDS data set that uses dataset_description\n",
      "No HED validation errors when dataset_description is used\n",
      "\n",
      "Now validating with schema URLs.\n",
      "No HED validation errors when schemas are passed\n"
     ]
    }
   ],
   "execution_count": 2
  },
  {
   "cell_type": "raw",
   "source": [],
   "metadata": {
    "collapsed": false
   }
  },
  {
   "cell_type": "raw",
   "source": [],
   "metadata": {
    "collapsed": false
   }
  }
 ],
 "metadata": {
  "kernelspec": {
   "display_name": "Python 3",
   "language": "python",
   "name": "python3"
  },
  "language_info": {
   "codemirror_mode": {
    "name": "ipython",
    "version": 2
   },
   "file_extension": ".py",
   "mimetype": "text/x-python",
   "name": "python",
   "nbconvert_exporter": "python",
   "pygments_lexer": "ipython2",
   "version": "2.7.6"
  }
 },
 "nbformat": 4,
 "nbformat_minor": 0
}
